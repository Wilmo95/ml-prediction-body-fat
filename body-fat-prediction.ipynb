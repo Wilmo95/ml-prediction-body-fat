{
 "cells": [
  {
   "cell_type": "markdown",
   "metadata": {},
   "source": [
    "# Import basic modules and load data\n",
    "Do a simple research about dataset"
   ]
  },
  {
   "cell_type": "code",
   "execution_count": 12,
   "metadata": {},
   "outputs": [],
   "source": [
    "import numpy as np\n",
    "import pandas as pd\n",
    "import matplotlib.pyplot as plt\n",
    "import seaborn as sns\n",
    "\n",
    "fat_df = pd.read_csv('bodyfat.csv')"
   ]
  },
  {
   "cell_type": "code",
   "execution_count": 13,
   "metadata": {},
   "outputs": [
    {
     "data": {
      "text/html": [
       "<div>\n",
       "<style scoped>\n",
       "    .dataframe tbody tr th:only-of-type {\n",
       "        vertical-align: middle;\n",
       "    }\n",
       "\n",
       "    .dataframe tbody tr th {\n",
       "        vertical-align: top;\n",
       "    }\n",
       "\n",
       "    .dataframe thead th {\n",
       "        text-align: right;\n",
       "    }\n",
       "</style>\n",
       "<table border=\"1\" class=\"dataframe\">\n",
       "  <thead>\n",
       "    <tr style=\"text-align: right;\">\n",
       "      <th></th>\n",
       "      <th>Density</th>\n",
       "      <th>BodyFat</th>\n",
       "      <th>Age</th>\n",
       "      <th>Weight</th>\n",
       "      <th>Height</th>\n",
       "      <th>Neck</th>\n",
       "      <th>Chest</th>\n",
       "      <th>Abdomen</th>\n",
       "      <th>Hip</th>\n",
       "      <th>Thigh</th>\n",
       "      <th>Knee</th>\n",
       "      <th>Ankle</th>\n",
       "      <th>Biceps</th>\n",
       "      <th>Forearm</th>\n",
       "      <th>Wrist</th>\n",
       "    </tr>\n",
       "  </thead>\n",
       "  <tbody>\n",
       "    <tr>\n",
       "      <th>137</th>\n",
       "      <td>1.0325</td>\n",
       "      <td>29.4</td>\n",
       "      <td>43</td>\n",
       "      <td>187.75</td>\n",
       "      <td>74.00</td>\n",
       "      <td>37.7</td>\n",
       "      <td>97.8</td>\n",
       "      <td>98.6</td>\n",
       "      <td>100.6</td>\n",
       "      <td>63.6</td>\n",
       "      <td>39.2</td>\n",
       "      <td>23.8</td>\n",
       "      <td>34.3</td>\n",
       "      <td>28.4</td>\n",
       "      <td>17.7</td>\n",
       "    </tr>\n",
       "    <tr>\n",
       "      <th>131</th>\n",
       "      <td>1.0472</td>\n",
       "      <td>22.7</td>\n",
       "      <td>40</td>\n",
       "      <td>171.25</td>\n",
       "      <td>70.50</td>\n",
       "      <td>36.3</td>\n",
       "      <td>94.6</td>\n",
       "      <td>90.3</td>\n",
       "      <td>99.1</td>\n",
       "      <td>60.3</td>\n",
       "      <td>38.5</td>\n",
       "      <td>23.0</td>\n",
       "      <td>31.2</td>\n",
       "      <td>28.4</td>\n",
       "      <td>17.1</td>\n",
       "    </tr>\n",
       "    <tr>\n",
       "      <th>40</th>\n",
       "      <td>1.0217</td>\n",
       "      <td>34.5</td>\n",
       "      <td>45</td>\n",
       "      <td>262.75</td>\n",
       "      <td>68.75</td>\n",
       "      <td>43.2</td>\n",
       "      <td>128.3</td>\n",
       "      <td>126.2</td>\n",
       "      <td>125.6</td>\n",
       "      <td>72.5</td>\n",
       "      <td>39.6</td>\n",
       "      <td>26.6</td>\n",
       "      <td>36.4</td>\n",
       "      <td>32.7</td>\n",
       "      <td>21.4</td>\n",
       "    </tr>\n",
       "    <tr>\n",
       "      <th>64</th>\n",
       "      <td>1.0264</td>\n",
       "      <td>32.3</td>\n",
       "      <td>57</td>\n",
       "      <td>205.50</td>\n",
       "      <td>70.00</td>\n",
       "      <td>40.1</td>\n",
       "      <td>105.3</td>\n",
       "      <td>105.5</td>\n",
       "      <td>108.3</td>\n",
       "      <td>65.0</td>\n",
       "      <td>41.2</td>\n",
       "      <td>24.7</td>\n",
       "      <td>35.3</td>\n",
       "      <td>31.1</td>\n",
       "      <td>18.4</td>\n",
       "    </tr>\n",
       "    <tr>\n",
       "      <th>206</th>\n",
       "      <td>1.0250</td>\n",
       "      <td>32.9</td>\n",
       "      <td>44</td>\n",
       "      <td>166.00</td>\n",
       "      <td>65.50</td>\n",
       "      <td>39.1</td>\n",
       "      <td>100.6</td>\n",
       "      <td>93.9</td>\n",
       "      <td>100.1</td>\n",
       "      <td>58.9</td>\n",
       "      <td>37.6</td>\n",
       "      <td>21.4</td>\n",
       "      <td>33.1</td>\n",
       "      <td>29.5</td>\n",
       "      <td>17.3</td>\n",
       "    </tr>\n",
       "    <tr>\n",
       "      <th>245</th>\n",
       "      <td>1.0641</td>\n",
       "      <td>15.2</td>\n",
       "      <td>68</td>\n",
       "      <td>155.50</td>\n",
       "      <td>69.25</td>\n",
       "      <td>36.3</td>\n",
       "      <td>97.4</td>\n",
       "      <td>84.3</td>\n",
       "      <td>94.4</td>\n",
       "      <td>54.3</td>\n",
       "      <td>37.5</td>\n",
       "      <td>22.6</td>\n",
       "      <td>29.2</td>\n",
       "      <td>27.3</td>\n",
       "      <td>18.5</td>\n",
       "    </tr>\n",
       "    <tr>\n",
       "      <th>163</th>\n",
       "      <td>1.0644</td>\n",
       "      <td>15.1</td>\n",
       "      <td>34</td>\n",
       "      <td>140.00</td>\n",
       "      <td>70.50</td>\n",
       "      <td>36.0</td>\n",
       "      <td>89.2</td>\n",
       "      <td>83.4</td>\n",
       "      <td>89.6</td>\n",
       "      <td>52.4</td>\n",
       "      <td>35.6</td>\n",
       "      <td>20.4</td>\n",
       "      <td>28.3</td>\n",
       "      <td>26.2</td>\n",
       "      <td>16.5</td>\n",
       "    </tr>\n",
       "    <tr>\n",
       "      <th>62</th>\n",
       "      <td>1.0298</td>\n",
       "      <td>30.7</td>\n",
       "      <td>54</td>\n",
       "      <td>193.25</td>\n",
       "      <td>70.25</td>\n",
       "      <td>38.0</td>\n",
       "      <td>107.6</td>\n",
       "      <td>102.4</td>\n",
       "      <td>99.4</td>\n",
       "      <td>61.0</td>\n",
       "      <td>39.4</td>\n",
       "      <td>23.6</td>\n",
       "      <td>32.7</td>\n",
       "      <td>29.9</td>\n",
       "      <td>19.1</td>\n",
       "    </tr>\n",
       "    <tr>\n",
       "      <th>49</th>\n",
       "      <td>1.0903</td>\n",
       "      <td>4.0</td>\n",
       "      <td>47</td>\n",
       "      <td>127.50</td>\n",
       "      <td>66.75</td>\n",
       "      <td>34.0</td>\n",
       "      <td>83.4</td>\n",
       "      <td>70.4</td>\n",
       "      <td>87.2</td>\n",
       "      <td>50.6</td>\n",
       "      <td>34.4</td>\n",
       "      <td>21.9</td>\n",
       "      <td>26.8</td>\n",
       "      <td>25.8</td>\n",
       "      <td>16.8</td>\n",
       "    </tr>\n",
       "    <tr>\n",
       "      <th>102</th>\n",
       "      <td>1.0530</td>\n",
       "      <td>20.1</td>\n",
       "      <td>41</td>\n",
       "      <td>172.75</td>\n",
       "      <td>71.25</td>\n",
       "      <td>36.3</td>\n",
       "      <td>96.7</td>\n",
       "      <td>89.2</td>\n",
       "      <td>98.3</td>\n",
       "      <td>60.0</td>\n",
       "      <td>38.4</td>\n",
       "      <td>23.2</td>\n",
       "      <td>31.0</td>\n",
       "      <td>29.2</td>\n",
       "      <td>18.4</td>\n",
       "    </tr>\n",
       "  </tbody>\n",
       "</table>\n",
       "</div>"
      ],
      "text/plain": [
       "     Density  BodyFat  Age  Weight  Height  Neck  Chest  Abdomen    Hip  \\\n",
       "137   1.0325     29.4   43  187.75   74.00  37.7   97.8     98.6  100.6   \n",
       "131   1.0472     22.7   40  171.25   70.50  36.3   94.6     90.3   99.1   \n",
       "40    1.0217     34.5   45  262.75   68.75  43.2  128.3    126.2  125.6   \n",
       "64    1.0264     32.3   57  205.50   70.00  40.1  105.3    105.5  108.3   \n",
       "206   1.0250     32.9   44  166.00   65.50  39.1  100.6     93.9  100.1   \n",
       "245   1.0641     15.2   68  155.50   69.25  36.3   97.4     84.3   94.4   \n",
       "163   1.0644     15.1   34  140.00   70.50  36.0   89.2     83.4   89.6   \n",
       "62    1.0298     30.7   54  193.25   70.25  38.0  107.6    102.4   99.4   \n",
       "49    1.0903      4.0   47  127.50   66.75  34.0   83.4     70.4   87.2   \n",
       "102   1.0530     20.1   41  172.75   71.25  36.3   96.7     89.2   98.3   \n",
       "\n",
       "     Thigh  Knee  Ankle  Biceps  Forearm  Wrist  \n",
       "137   63.6  39.2   23.8    34.3     28.4   17.7  \n",
       "131   60.3  38.5   23.0    31.2     28.4   17.1  \n",
       "40    72.5  39.6   26.6    36.4     32.7   21.4  \n",
       "64    65.0  41.2   24.7    35.3     31.1   18.4  \n",
       "206   58.9  37.6   21.4    33.1     29.5   17.3  \n",
       "245   54.3  37.5   22.6    29.2     27.3   18.5  \n",
       "163   52.4  35.6   20.4    28.3     26.2   16.5  \n",
       "62    61.0  39.4   23.6    32.7     29.9   19.1  \n",
       "49    50.6  34.4   21.9    26.8     25.8   16.8  \n",
       "102   60.0  38.4   23.2    31.0     29.2   18.4  "
      ]
     },
     "execution_count": 13,
     "metadata": {},
     "output_type": "execute_result"
    }
   ],
   "source": [
    "fat_df.sample(10)"
   ]
  },
  {
   "cell_type": "code",
   "execution_count": 14,
   "metadata": {},
   "outputs": [
    {
     "name": "stdout",
     "output_type": "stream",
     "text": [
      "<class 'pandas.core.frame.DataFrame'>\n",
      "RangeIndex: 252 entries, 0 to 251\n",
      "Data columns (total 15 columns):\n",
      " #   Column   Non-Null Count  Dtype  \n",
      "---  ------   --------------  -----  \n",
      " 0   Density  252 non-null    float64\n",
      " 1   BodyFat  252 non-null    float64\n",
      " 2   Age      252 non-null    int64  \n",
      " 3   Weight   252 non-null    float64\n",
      " 4   Height   252 non-null    float64\n",
      " 5   Neck     252 non-null    float64\n",
      " 6   Chest    252 non-null    float64\n",
      " 7   Abdomen  252 non-null    float64\n",
      " 8   Hip      252 non-null    float64\n",
      " 9   Thigh    252 non-null    float64\n",
      " 10  Knee     252 non-null    float64\n",
      " 11  Ankle    252 non-null    float64\n",
      " 12  Biceps   252 non-null    float64\n",
      " 13  Forearm  252 non-null    float64\n",
      " 14  Wrist    252 non-null    float64\n",
      "dtypes: float64(14), int64(1)\n",
      "memory usage: 29.7 KB\n"
     ]
    }
   ],
   "source": [
    "fat_df.info()"
   ]
  },
  {
   "cell_type": "code",
   "execution_count": 15,
   "metadata": {},
   "outputs": [
    {
     "data": {
      "text/html": [
       "<div>\n",
       "<style scoped>\n",
       "    .dataframe tbody tr th:only-of-type {\n",
       "        vertical-align: middle;\n",
       "    }\n",
       "\n",
       "    .dataframe tbody tr th {\n",
       "        vertical-align: top;\n",
       "    }\n",
       "\n",
       "    .dataframe thead th {\n",
       "        text-align: right;\n",
       "    }\n",
       "</style>\n",
       "<table border=\"1\" class=\"dataframe\">\n",
       "  <thead>\n",
       "    <tr style=\"text-align: right;\">\n",
       "      <th></th>\n",
       "      <th>Density</th>\n",
       "      <th>BodyFat</th>\n",
       "      <th>Age</th>\n",
       "      <th>Weight</th>\n",
       "      <th>Height</th>\n",
       "      <th>Neck</th>\n",
       "      <th>Chest</th>\n",
       "      <th>Abdomen</th>\n",
       "      <th>Hip</th>\n",
       "      <th>Thigh</th>\n",
       "      <th>Knee</th>\n",
       "      <th>Ankle</th>\n",
       "      <th>Biceps</th>\n",
       "      <th>Forearm</th>\n",
       "      <th>Wrist</th>\n",
       "    </tr>\n",
       "  </thead>\n",
       "  <tbody>\n",
       "    <tr>\n",
       "      <th>count</th>\n",
       "      <td>252.000000</td>\n",
       "      <td>252.000000</td>\n",
       "      <td>252.000000</td>\n",
       "      <td>252.000000</td>\n",
       "      <td>252.000000</td>\n",
       "      <td>252.000000</td>\n",
       "      <td>252.000000</td>\n",
       "      <td>252.000000</td>\n",
       "      <td>252.000000</td>\n",
       "      <td>252.000000</td>\n",
       "      <td>252.000000</td>\n",
       "      <td>252.000000</td>\n",
       "      <td>252.000000</td>\n",
       "      <td>252.000000</td>\n",
       "      <td>252.000000</td>\n",
       "    </tr>\n",
       "    <tr>\n",
       "      <th>mean</th>\n",
       "      <td>1.055574</td>\n",
       "      <td>19.150794</td>\n",
       "      <td>44.884921</td>\n",
       "      <td>178.924405</td>\n",
       "      <td>70.148810</td>\n",
       "      <td>37.992063</td>\n",
       "      <td>100.824206</td>\n",
       "      <td>92.555952</td>\n",
       "      <td>99.904762</td>\n",
       "      <td>59.405952</td>\n",
       "      <td>38.590476</td>\n",
       "      <td>23.102381</td>\n",
       "      <td>32.273413</td>\n",
       "      <td>28.663889</td>\n",
       "      <td>18.229762</td>\n",
       "    </tr>\n",
       "    <tr>\n",
       "      <th>std</th>\n",
       "      <td>0.019031</td>\n",
       "      <td>8.368740</td>\n",
       "      <td>12.602040</td>\n",
       "      <td>29.389160</td>\n",
       "      <td>3.662856</td>\n",
       "      <td>2.430913</td>\n",
       "      <td>8.430476</td>\n",
       "      <td>10.783077</td>\n",
       "      <td>7.164058</td>\n",
       "      <td>5.249952</td>\n",
       "      <td>2.411805</td>\n",
       "      <td>1.694893</td>\n",
       "      <td>3.021274</td>\n",
       "      <td>2.020691</td>\n",
       "      <td>0.933585</td>\n",
       "    </tr>\n",
       "    <tr>\n",
       "      <th>min</th>\n",
       "      <td>0.995000</td>\n",
       "      <td>0.000000</td>\n",
       "      <td>22.000000</td>\n",
       "      <td>118.500000</td>\n",
       "      <td>29.500000</td>\n",
       "      <td>31.100000</td>\n",
       "      <td>79.300000</td>\n",
       "      <td>69.400000</td>\n",
       "      <td>85.000000</td>\n",
       "      <td>47.200000</td>\n",
       "      <td>33.000000</td>\n",
       "      <td>19.100000</td>\n",
       "      <td>24.800000</td>\n",
       "      <td>21.000000</td>\n",
       "      <td>15.800000</td>\n",
       "    </tr>\n",
       "    <tr>\n",
       "      <th>25%</th>\n",
       "      <td>1.041400</td>\n",
       "      <td>12.475000</td>\n",
       "      <td>35.750000</td>\n",
       "      <td>159.000000</td>\n",
       "      <td>68.250000</td>\n",
       "      <td>36.400000</td>\n",
       "      <td>94.350000</td>\n",
       "      <td>84.575000</td>\n",
       "      <td>95.500000</td>\n",
       "      <td>56.000000</td>\n",
       "      <td>36.975000</td>\n",
       "      <td>22.000000</td>\n",
       "      <td>30.200000</td>\n",
       "      <td>27.300000</td>\n",
       "      <td>17.600000</td>\n",
       "    </tr>\n",
       "    <tr>\n",
       "      <th>50%</th>\n",
       "      <td>1.054900</td>\n",
       "      <td>19.200000</td>\n",
       "      <td>43.000000</td>\n",
       "      <td>176.500000</td>\n",
       "      <td>70.000000</td>\n",
       "      <td>38.000000</td>\n",
       "      <td>99.650000</td>\n",
       "      <td>90.950000</td>\n",
       "      <td>99.300000</td>\n",
       "      <td>59.000000</td>\n",
       "      <td>38.500000</td>\n",
       "      <td>22.800000</td>\n",
       "      <td>32.050000</td>\n",
       "      <td>28.700000</td>\n",
       "      <td>18.300000</td>\n",
       "    </tr>\n",
       "    <tr>\n",
       "      <th>75%</th>\n",
       "      <td>1.070400</td>\n",
       "      <td>25.300000</td>\n",
       "      <td>54.000000</td>\n",
       "      <td>197.000000</td>\n",
       "      <td>72.250000</td>\n",
       "      <td>39.425000</td>\n",
       "      <td>105.375000</td>\n",
       "      <td>99.325000</td>\n",
       "      <td>103.525000</td>\n",
       "      <td>62.350000</td>\n",
       "      <td>39.925000</td>\n",
       "      <td>24.000000</td>\n",
       "      <td>34.325000</td>\n",
       "      <td>30.000000</td>\n",
       "      <td>18.800000</td>\n",
       "    </tr>\n",
       "    <tr>\n",
       "      <th>max</th>\n",
       "      <td>1.108900</td>\n",
       "      <td>47.500000</td>\n",
       "      <td>81.000000</td>\n",
       "      <td>363.150000</td>\n",
       "      <td>77.750000</td>\n",
       "      <td>51.200000</td>\n",
       "      <td>136.200000</td>\n",
       "      <td>148.100000</td>\n",
       "      <td>147.700000</td>\n",
       "      <td>87.300000</td>\n",
       "      <td>49.100000</td>\n",
       "      <td>33.900000</td>\n",
       "      <td>45.000000</td>\n",
       "      <td>34.900000</td>\n",
       "      <td>21.400000</td>\n",
       "    </tr>\n",
       "  </tbody>\n",
       "</table>\n",
       "</div>"
      ],
      "text/plain": [
       "          Density     BodyFat         Age      Weight      Height        Neck  \\\n",
       "count  252.000000  252.000000  252.000000  252.000000  252.000000  252.000000   \n",
       "mean     1.055574   19.150794   44.884921  178.924405   70.148810   37.992063   \n",
       "std      0.019031    8.368740   12.602040   29.389160    3.662856    2.430913   \n",
       "min      0.995000    0.000000   22.000000  118.500000   29.500000   31.100000   \n",
       "25%      1.041400   12.475000   35.750000  159.000000   68.250000   36.400000   \n",
       "50%      1.054900   19.200000   43.000000  176.500000   70.000000   38.000000   \n",
       "75%      1.070400   25.300000   54.000000  197.000000   72.250000   39.425000   \n",
       "max      1.108900   47.500000   81.000000  363.150000   77.750000   51.200000   \n",
       "\n",
       "            Chest     Abdomen         Hip       Thigh        Knee       Ankle  \\\n",
       "count  252.000000  252.000000  252.000000  252.000000  252.000000  252.000000   \n",
       "mean   100.824206   92.555952   99.904762   59.405952   38.590476   23.102381   \n",
       "std      8.430476   10.783077    7.164058    5.249952    2.411805    1.694893   \n",
       "min     79.300000   69.400000   85.000000   47.200000   33.000000   19.100000   \n",
       "25%     94.350000   84.575000   95.500000   56.000000   36.975000   22.000000   \n",
       "50%     99.650000   90.950000   99.300000   59.000000   38.500000   22.800000   \n",
       "75%    105.375000   99.325000  103.525000   62.350000   39.925000   24.000000   \n",
       "max    136.200000  148.100000  147.700000   87.300000   49.100000   33.900000   \n",
       "\n",
       "           Biceps     Forearm       Wrist  \n",
       "count  252.000000  252.000000  252.000000  \n",
       "mean    32.273413   28.663889   18.229762  \n",
       "std      3.021274    2.020691    0.933585  \n",
       "min     24.800000   21.000000   15.800000  \n",
       "25%     30.200000   27.300000   17.600000  \n",
       "50%     32.050000   28.700000   18.300000  \n",
       "75%     34.325000   30.000000   18.800000  \n",
       "max     45.000000   34.900000   21.400000  "
      ]
     },
     "execution_count": 15,
     "metadata": {},
     "output_type": "execute_result"
    }
   ],
   "source": [
    "fat_df.describe()"
   ]
  },
  {
   "cell_type": "code",
   "execution_count": 16,
   "metadata": {},
   "outputs": [
    {
     "data": {
      "text/plain": [
       "(252, 15)"
      ]
     },
     "execution_count": 16,
     "metadata": {},
     "output_type": "execute_result"
    }
   ],
   "source": [
    "fat_df.shape"
   ]
  },
  {
   "cell_type": "code",
   "execution_count": 19,
   "metadata": {},
   "outputs": [
    {
     "data": {
      "text/plain": [
       "False"
      ]
     },
     "execution_count": 19,
     "metadata": {},
     "output_type": "execute_result"
    }
   ],
   "source": [
    "fat_df.isnull().values.any()"
   ]
  },
  {
   "cell_type": "code",
   "execution_count": 27,
   "metadata": {},
   "outputs": [
    {
     "data": {
      "text/plain": [
       "Density    0\n",
       "BodyFat    1\n",
       "Age        0\n",
       "Weight     0\n",
       "Height     0\n",
       "Neck       0\n",
       "Chest      0\n",
       "Abdomen    0\n",
       "Hip        0\n",
       "Thigh      0\n",
       "Knee       0\n",
       "Ankle      0\n",
       "Biceps     0\n",
       "Forearm    0\n",
       "Wrist      0\n",
       "dtype: int64"
      ]
     },
     "execution_count": 27,
     "metadata": {},
     "output_type": "execute_result"
    }
   ],
   "source": [
    "(fat_df == 0).sum()"
   ]
  },
  {
   "cell_type": "code",
   "execution_count": 35,
   "metadata": {},
   "outputs": [
    {
     "data": {
      "text/html": [
       "<div>\n",
       "<style scoped>\n",
       "    .dataframe tbody tr th:only-of-type {\n",
       "        vertical-align: middle;\n",
       "    }\n",
       "\n",
       "    .dataframe tbody tr th {\n",
       "        vertical-align: top;\n",
       "    }\n",
       "\n",
       "    .dataframe thead th {\n",
       "        text-align: right;\n",
       "    }\n",
       "</style>\n",
       "<table border=\"1\" class=\"dataframe\">\n",
       "  <thead>\n",
       "    <tr style=\"text-align: right;\">\n",
       "      <th></th>\n",
       "      <th>Density</th>\n",
       "      <th>BodyFat</th>\n",
       "      <th>Age</th>\n",
       "      <th>Weight</th>\n",
       "      <th>Height</th>\n",
       "      <th>Neck</th>\n",
       "      <th>Chest</th>\n",
       "      <th>Abdomen</th>\n",
       "      <th>Hip</th>\n",
       "      <th>Thigh</th>\n",
       "      <th>Knee</th>\n",
       "      <th>Ankle</th>\n",
       "      <th>Biceps</th>\n",
       "      <th>Forearm</th>\n",
       "      <th>Wrist</th>\n",
       "    </tr>\n",
       "  </thead>\n",
       "  <tbody>\n",
       "    <tr>\n",
       "      <th>181</th>\n",
       "      <td>1.1089</td>\n",
       "      <td>0.0</td>\n",
       "      <td>40</td>\n",
       "      <td>118.5</td>\n",
       "      <td>68.0</td>\n",
       "      <td>33.8</td>\n",
       "      <td>79.3</td>\n",
       "      <td>69.4</td>\n",
       "      <td>85.0</td>\n",
       "      <td>47.2</td>\n",
       "      <td>33.5</td>\n",
       "      <td>20.2</td>\n",
       "      <td>27.7</td>\n",
       "      <td>24.6</td>\n",
       "      <td>16.5</td>\n",
       "    </tr>\n",
       "  </tbody>\n",
       "</table>\n",
       "</div>"
      ],
      "text/plain": [
       "     Density  BodyFat  Age  Weight  Height  Neck  Chest  Abdomen   Hip  Thigh  \\\n",
       "181   1.1089      0.0   40   118.5    68.0  33.8   79.3     69.4  85.0   47.2   \n",
       "\n",
       "     Knee  Ankle  Biceps  Forearm  Wrist  \n",
       "181  33.5   20.2    27.7     24.6   16.5  "
      ]
     },
     "execution_count": 35,
     "metadata": {},
     "output_type": "execute_result"
    }
   ],
   "source": [
    "fat_df.loc[fat_df['BodyFat']==0.0]"
   ]
  },
  {
   "cell_type": "code",
   "execution_count": 39,
   "metadata": {},
   "outputs": [],
   "source": [
    "fat_df.drop(fat_df[fat_df['BodyFat'] == 0].index, axis=0, inplace=True)"
   ]
  },
  {
   "cell_type": "code",
   "execution_count": 40,
   "metadata": {},
   "outputs": [
    {
     "data": {
      "text/html": [
       "<div>\n",
       "<style scoped>\n",
       "    .dataframe tbody tr th:only-of-type {\n",
       "        vertical-align: middle;\n",
       "    }\n",
       "\n",
       "    .dataframe tbody tr th {\n",
       "        vertical-align: top;\n",
       "    }\n",
       "\n",
       "    .dataframe thead th {\n",
       "        text-align: right;\n",
       "    }\n",
       "</style>\n",
       "<table border=\"1\" class=\"dataframe\">\n",
       "  <thead>\n",
       "    <tr style=\"text-align: right;\">\n",
       "      <th></th>\n",
       "      <th>Density</th>\n",
       "      <th>BodyFat</th>\n",
       "      <th>Age</th>\n",
       "      <th>Weight</th>\n",
       "      <th>Height</th>\n",
       "      <th>Neck</th>\n",
       "      <th>Chest</th>\n",
       "      <th>Abdomen</th>\n",
       "      <th>Hip</th>\n",
       "      <th>Thigh</th>\n",
       "      <th>Knee</th>\n",
       "      <th>Ankle</th>\n",
       "      <th>Biceps</th>\n",
       "      <th>Forearm</th>\n",
       "      <th>Wrist</th>\n",
       "    </tr>\n",
       "  </thead>\n",
       "  <tbody>\n",
       "  </tbody>\n",
       "</table>\n",
       "</div>"
      ],
      "text/plain": [
       "Empty DataFrame\n",
       "Columns: [Density, BodyFat, Age, Weight, Height, Neck, Chest, Abdomen, Hip, Thigh, Knee, Ankle, Biceps, Forearm, Wrist]\n",
       "Index: []"
      ]
     },
     "execution_count": 40,
     "metadata": {},
     "output_type": "execute_result"
    }
   ],
   "source": [
    "fat_df.loc[fat_df['BodyFat']==0]"
   ]
  },
  {
   "cell_type": "markdown",
   "metadata": {},
   "source": [
    "# Split dataset into train and test sets."
   ]
  },
  {
   "cell_type": "code",
   "execution_count": 63,
   "metadata": {},
   "outputs": [],
   "source": [
    "from sklearn.model_selection import train_test_split\n",
    "\n",
    "X = fat_df.drop('BodyFat', axis = 1)\n",
    "y = fat_df['BodyFat']\n",
    "\n",
    "X_train, X_test, y_train, y_test = train_test_split(X,y, test_size=0.3, random_state=42)"
   ]
  },
  {
   "cell_type": "markdown",
   "metadata": {},
   "source": [
    "## Check our split"
   ]
  },
  {
   "cell_type": "code",
   "execution_count": 64,
   "metadata": {},
   "outputs": [
    {
     "name": "stderr",
     "output_type": "stream",
     "text": [
      "c:\\Users\\barto\\anaconda3\\lib\\site-packages\\seaborn\\distributions.py:2619: FutureWarning: `distplot` is a deprecated function and will be removed in a future version. Please adapt your code to use either `displot` (a figure-level function with similar flexibility) or `histplot` (an axes-level function for histograms).\n",
      "  warnings.warn(msg, FutureWarning)\n"
     ]
    },
    {
     "data": {
      "image/png": "[encoded data removed]",
      "text/plain": [
       "<Figure size 432x288 with 1 Axes>"
      ]
     },
     "metadata": {
      "needs_background": "light"
     },
     "output_type": "display_data"
    }
   ],
   "source": [
    "fig, ax = plt.subplots()\n",
    "for a in [y_train, y_test]:\n",
    "    sns.distplot(a, ax=ax, kde=False)"
   ]
  },
  {
   "cell_type": "code",
   "execution_count": 65,
   "metadata": {},
   "outputs": [
    {
     "data": {
      "text/plain": [
       "KstestResult(statistic=0.14218045112781955, pvalue=0.20872174796385778)"
      ]
     },
     "execution_count": 65,
     "metadata": {},
     "output_type": "execute_result"
    }
   ],
   "source": [
    "from scipy import stats\n",
    "#Performs the Kolmogorov-Smirnov test for goodness of fit.\n",
    "stats.kstest(y_train, y_test)"
   ]
  },
  {
   "cell_type": "code",
   "execution_count": 66,
   "metadata": {},
   "outputs": [
    {
     "data": {
      "text/plain": [
       "(175, 14)"
      ]
     },
     "execution_count": 66,
     "metadata": {},
     "output_type": "execute_result"
    }
   ],
   "source": [
    "X_train.shape"
   ]
  },
  {
   "cell_type": "code",
   "execution_count": 67,
   "metadata": {},
   "outputs": [
    {
     "data": {
      "text/plain": [
       "(76, 14)"
      ]
     },
     "execution_count": 67,
     "metadata": {},
     "output_type": "execute_result"
    }
   ],
   "source": [
    "X_test.shape"
   ]
  },
  {
   "cell_type": "code",
   "execution_count": 68,
   "metadata": {},
   "outputs": [
    {
     "data": {
      "text/plain": [
       "(175,)"
      ]
     },
     "execution_count": 68,
     "metadata": {},
     "output_type": "execute_result"
    }
   ],
   "source": [
    "y_train.shape"
   ]
  },
  {
   "cell_type": "code",
   "execution_count": 69,
   "metadata": {},
   "outputs": [
    {
     "data": {
      "text/plain": [
       "(76,)"
      ]
     },
     "execution_count": 69,
     "metadata": {},
     "output_type": "execute_result"
    }
   ],
   "source": [
    "y_test.shape"
   ]
  },
  {
   "cell_type": "code",
   "execution_count": 70,
   "metadata": {},
   "outputs": [
    {
     "data": {
      "text/html": [
       "<div>\n",
       "<style scoped>\n",
       "    .dataframe tbody tr th:only-of-type {\n",
       "        vertical-align: middle;\n",
       "    }\n",
       "\n",
       "    .dataframe tbody tr th {\n",
       "        vertical-align: top;\n",
       "    }\n",
       "\n",
       "    .dataframe thead th {\n",
       "        text-align: right;\n",
       "    }\n",
       "</style>\n",
       "<table border=\"1\" class=\"dataframe\">\n",
       "  <thead>\n",
       "    <tr style=\"text-align: right;\">\n",
       "      <th></th>\n",
       "      <th>Density</th>\n",
       "      <th>Age</th>\n",
       "      <th>Weight</th>\n",
       "      <th>Height</th>\n",
       "      <th>Neck</th>\n",
       "      <th>Chest</th>\n",
       "      <th>Abdomen</th>\n",
       "      <th>Hip</th>\n",
       "      <th>Thigh</th>\n",
       "      <th>Knee</th>\n",
       "      <th>Ankle</th>\n",
       "      <th>Biceps</th>\n",
       "      <th>Forearm</th>\n",
       "      <th>Wrist</th>\n",
       "    </tr>\n",
       "  </thead>\n",
       "  <tbody>\n",
       "    <tr>\n",
       "      <th>count</th>\n",
       "      <td>175.000000</td>\n",
       "      <td>175.000000</td>\n",
       "      <td>175.000000</td>\n",
       "      <td>175.000000</td>\n",
       "      <td>175.000000</td>\n",
       "      <td>175.000000</td>\n",
       "      <td>175.000000</td>\n",
       "      <td>175.00000</td>\n",
       "      <td>175.000000</td>\n",
       "      <td>175.000000</td>\n",
       "      <td>175.000000</td>\n",
       "      <td>175.000000</td>\n",
       "      <td>175.000000</td>\n",
       "      <td>175.000000</td>\n",
       "    </tr>\n",
       "    <tr>\n",
       "      <th>mean</th>\n",
       "      <td>1.055163</td>\n",
       "      <td>44.474286</td>\n",
       "      <td>178.290286</td>\n",
       "      <td>69.890000</td>\n",
       "      <td>37.952000</td>\n",
       "      <td>100.804000</td>\n",
       "      <td>92.556571</td>\n",
       "      <td>99.88400</td>\n",
       "      <td>59.346286</td>\n",
       "      <td>38.514857</td>\n",
       "      <td>23.065714</td>\n",
       "      <td>32.154286</td>\n",
       "      <td>28.692571</td>\n",
       "      <td>18.238857</td>\n",
       "    </tr>\n",
       "    <tr>\n",
       "      <th>std</th>\n",
       "      <td>0.020143</td>\n",
       "      <td>12.872861</td>\n",
       "      <td>27.734305</td>\n",
       "      <td>4.026364</td>\n",
       "      <td>2.356059</td>\n",
       "      <td>8.379685</td>\n",
       "      <td>10.566666</td>\n",
       "      <td>6.89944</td>\n",
       "      <td>5.193395</td>\n",
       "      <td>2.385012</td>\n",
       "      <td>1.554035</td>\n",
       "      <td>3.034528</td>\n",
       "      <td>2.073367</td>\n",
       "      <td>0.954649</td>\n",
       "    </tr>\n",
       "    <tr>\n",
       "      <th>min</th>\n",
       "      <td>0.995000</td>\n",
       "      <td>22.000000</td>\n",
       "      <td>125.250000</td>\n",
       "      <td>29.500000</td>\n",
       "      <td>31.100000</td>\n",
       "      <td>83.400000</td>\n",
       "      <td>70.400000</td>\n",
       "      <td>85.30000</td>\n",
       "      <td>49.300000</td>\n",
       "      <td>33.000000</td>\n",
       "      <td>19.700000</td>\n",
       "      <td>24.800000</td>\n",
       "      <td>21.000000</td>\n",
       "      <td>15.800000</td>\n",
       "    </tr>\n",
       "    <tr>\n",
       "      <th>25%</th>\n",
       "      <td>1.040700</td>\n",
       "      <td>35.000000</td>\n",
       "      <td>159.000000</td>\n",
       "      <td>68.125000</td>\n",
       "      <td>36.400000</td>\n",
       "      <td>94.000000</td>\n",
       "      <td>84.450000</td>\n",
       "      <td>95.25000</td>\n",
       "      <td>55.900000</td>\n",
       "      <td>36.900000</td>\n",
       "      <td>22.050000</td>\n",
       "      <td>30.150000</td>\n",
       "      <td>27.300000</td>\n",
       "      <td>17.600000</td>\n",
       "    </tr>\n",
       "    <tr>\n",
       "      <th>50%</th>\n",
       "      <td>1.053800</td>\n",
       "      <td>44.000000</td>\n",
       "      <td>176.750000</td>\n",
       "      <td>70.000000</td>\n",
       "      <td>38.000000</td>\n",
       "      <td>99.800000</td>\n",
       "      <td>90.900000</td>\n",
       "      <td>99.30000</td>\n",
       "      <td>59.000000</td>\n",
       "      <td>38.400000</td>\n",
       "      <td>22.800000</td>\n",
       "      <td>31.800000</td>\n",
       "      <td>28.800000</td>\n",
       "      <td>18.300000</td>\n",
       "    </tr>\n",
       "    <tr>\n",
       "      <th>75%</th>\n",
       "      <td>1.071950</td>\n",
       "      <td>52.500000</td>\n",
       "      <td>199.000000</td>\n",
       "      <td>71.875000</td>\n",
       "      <td>39.650000</td>\n",
       "      <td>105.800000</td>\n",
       "      <td>99.750000</td>\n",
       "      <td>103.80000</td>\n",
       "      <td>62.200000</td>\n",
       "      <td>39.950000</td>\n",
       "      <td>24.000000</td>\n",
       "      <td>34.550000</td>\n",
       "      <td>30.100000</td>\n",
       "      <td>18.800000</td>\n",
       "    </tr>\n",
       "    <tr>\n",
       "      <th>max</th>\n",
       "      <td>1.099100</td>\n",
       "      <td>81.000000</td>\n",
       "      <td>262.750000</td>\n",
       "      <td>77.750000</td>\n",
       "      <td>43.900000</td>\n",
       "      <td>128.300000</td>\n",
       "      <td>126.200000</td>\n",
       "      <td>125.60000</td>\n",
       "      <td>74.400000</td>\n",
       "      <td>46.000000</td>\n",
       "      <td>33.700000</td>\n",
       "      <td>39.100000</td>\n",
       "      <td>33.800000</td>\n",
       "      <td>21.400000</td>\n",
       "    </tr>\n",
       "  </tbody>\n",
       "</table>\n",
       "</div>"
      ],
      "text/plain": [
       "          Density         Age      Weight      Height        Neck       Chest  \\\n",
       "count  175.000000  175.000000  175.000000  175.000000  175.000000  175.000000   \n",
       "mean     1.055163   44.474286  178.290286   69.890000   37.952000  100.804000   \n",
       "std      0.020143   12.872861   27.734305    4.026364    2.356059    8.379685   \n",
       "min      0.995000   22.000000  125.250000   29.500000   31.100000   83.400000   \n",
       "25%      1.040700   35.000000  159.000000   68.125000   36.400000   94.000000   \n",
       "50%      1.053800   44.000000  176.750000   70.000000   38.000000   99.800000   \n",
       "75%      1.071950   52.500000  199.000000   71.875000   39.650000  105.800000   \n",
       "max      1.099100   81.000000  262.750000   77.750000   43.900000  128.300000   \n",
       "\n",
       "          Abdomen        Hip       Thigh        Knee       Ankle      Biceps  \\\n",
       "count  175.000000  175.00000  175.000000  175.000000  175.000000  175.000000   \n",
       "mean    92.556571   99.88400   59.346286   38.514857   23.065714   32.154286   \n",
       "std     10.566666    6.89944    5.193395    2.385012    1.554035    3.034528   \n",
       "min     70.400000   85.30000   49.300000   33.000000   19.700000   24.800000   \n",
       "25%     84.450000   95.25000   55.900000   36.900000   22.050000   30.150000   \n",
       "50%     90.900000   99.30000   59.000000   38.400000   22.800000   31.800000   \n",
       "75%     99.750000  103.80000   62.200000   39.950000   24.000000   34.550000   \n",
       "max    126.200000  125.60000   74.400000   46.000000   33.700000   39.100000   \n",
       "\n",
       "          Forearm       Wrist  \n",
       "count  175.000000  175.000000  \n",
       "mean    28.692571   18.238857  \n",
       "std      2.073367    0.954649  \n",
       "min     21.000000   15.800000  \n",
       "25%     27.300000   17.600000  \n",
       "50%     28.800000   18.300000  \n",
       "75%     30.100000   18.800000  \n",
       "max     33.800000   21.400000  "
      ]
     },
     "execution_count": 70,
     "metadata": {},
     "output_type": "execute_result"
    }
   ],
   "source": [
    "X_train.describe(include='all')"
   ]
  },
  {
   "cell_type": "code",
   "execution_count": 72,
   "metadata": {},
   "outputs": [
    {
     "data": {
      "text/plain": [
       "<AxesSubplot:>"
      ]
     },
     "execution_count": 72,
     "metadata": {},
     "output_type": "execute_result"
    },
    {
     "data": {
      "image/png": "[encoded data removed]",
      "text/plain": [
       "<Figure size 1008x576 with 2 Axes>"
      ]
     },
     "metadata": {
      "needs_background": "light"
     },
     "output_type": "display_data"
    }
   ],
   "source": [
    "plt.figure(figsize=(14,8))\n",
    "sns.heatmap(X_train.join(y_train).corr(),cmap='Wistia', annot=True)"
   ]
  },
  {
   "cell_type": "code",
   "execution_count": 76,
   "metadata": {},
   "outputs": [
    {
     "name": "stderr",
     "output_type": "stream",
     "text": [
      "c:\\Users\\barto\\anaconda3\\lib\\site-packages\\seaborn\\distributions.py:2619: FutureWarning: `distplot` is a deprecated function and will be removed in a future version. Please adapt your code to use either `displot` (a figure-level function with similar flexibility) or `histplot` (an axes-level function for histograms).\n",
      "  warnings.warn(msg, FutureWarning)\n",
      "c:\\Users\\barto\\anaconda3\\lib\\site-packages\\seaborn\\distributions.py:2619: FutureWarning: `distplot` is a deprecated function and will be removed in a future version. Please adapt your code to use either `displot` (a figure-level function with similar flexibility) or `histplot` (an axes-level function for histograms).\n",
      "  warnings.warn(msg, FutureWarning)\n"
     ]
    },
    {
     "data": {
      "image/png": "[encoded data removed]",
      "text/plain": [
       "<Figure size 1296x432 with 2 Axes>"
      ]
     },
     "metadata": {
      "needs_background": "light"
     },
     "output_type": "display_data"
    }
   ],
   "source": [
    "f = plt.figure(figsize=(18, 6))\n",
    "ax = f.add_subplot(121)\n",
    "sns.distplot(y_train, bins=50, color=\"r\", ax=ax)\n",
    "ax.set_title(\"Rozkład opłat ubezpieczeniowych\")\n",
    "\n",
    "ax = f.add_subplot(122)\n",
    "sns.distplot(np.log(y_train), bins=40, color=\"b\", ax=ax)\n",
    "ax.set_title(\"Rozkład opłat ubezpieczeniowych of w skali $log$\")\n",
    "ax.set_xscale(\"log\")"
   ]
  },
  {
   "cell_type": "code",
   "execution_count": 77,
   "metadata": {},
   "outputs": [
    {
     "data": {
      "text/plain": [
       "((0.5072755146118888, 0.9943525538127285), 0.7425523835035088)"
      ]
     },
     "execution_count": 77,
     "metadata": {},
     "output_type": "execute_result"
    }
   ],
   "source": [
    "from scipy.stats import boxcox\n",
    "\n",
    "y_bc, lam, ci = boxcox(y_train, alpha=0.05)\n",
    "\n",
    "# df['charges'] = y_bc\n",
    "# it did not perform better for this model!\n",
    "ci, lam"
   ]
  },
  {
   "cell_type": "code",
   "execution_count": 78,
   "metadata": {},
   "outputs": [
    {
     "data": {
      "text/plain": [
       "(array([ 2., 12., 23., 21., 30., 36., 28., 20.,  2.,  1.]),\n",
       " array([-0.31335005,  1.95090019,  4.21515043,  6.47940068,  8.74365092,\n",
       "        11.00790116, 13.27215141, 15.53640165, 17.8006519 , 20.06490214,\n",
       "        22.32915238]),\n",
       " <BarContainer object of 10 artists>)"
      ]
     },
     "execution_count": 78,
     "metadata": {},
     "output_type": "execute_result"
    },
    {
     "data": {
      "image/png": "[encoded data removed]",
      "text/plain": [
       "<Figure size 1008x432 with 1 Axes>"
      ]
     },
     "metadata": {
      "needs_background": "light"
     },
     "output_type": "display_data"
    }
   ],
   "source": [
    "plt.figure(figsize=(14,6))\n",
    "plt.hist(y_bc)"
   ]
  },
  {
   "cell_type": "code",
   "execution_count": 79,
   "metadata": {},
   "outputs": [
    {
     "data": {
      "text/plain": [
       "<AxesSubplot:>"
      ]
     },
     "execution_count": 79,
     "metadata": {},
     "output_type": "execute_result"
    },
    {
     "data": {
      "image/png": "[encoded data removed]",
      "text/plain": [
       "<Figure size 1008x432 with 1 Axes>"
      ]
     },
     "metadata": {
      "needs_background": "light"
     },
     "output_type": "display_data"
    }
   ],
   "source": [
    "plt.figure(figsize=(14,6))\n",
    "np.log(fat_df['BodyFat']).hist()"
   ]
  },
  {
   "cell_type": "code",
   "execution_count": 81,
   "metadata": {},
   "outputs": [
    {
     "name": "stdout",
     "output_type": "stream",
     "text": [
      "Test normalość dla zmiennej po transformacji Box Coxa: \n",
      "ShapiroResult(statistic=0.9879832863807678, pvalue=0.14248088002204895)\n",
      "Test normalość dla zmiennej po prostej transformacji logarytmicznej: \n",
      "ShapiroResult(statistic=0.9059879183769226, pvalue=1.9460620614975e-11)\n"
     ]
    }
   ],
   "source": [
    "from scipy import stats\n",
    "\n",
    "print(f\"Test normalość dla zmiennej po transformacji Box Coxa: \\n{stats.shapiro(y_bc)}\")\n",
    "print(\n",
    "    f\"Test normalość dla zmiennej po prostej transformacji logarytmicznej: \\n{stats.shapiro(np.log(fat_df['BodyFat']))}\"\n",
    ")"
   ]
  },
  {
   "cell_type": "code",
   "execution_count": null,
   "metadata": {},
   "outputs": [],
   "source": []
  }
 ],
 "metadata": {
  "kernelspec": {
   "display_name": "Python 3.9.12 ('base')",
   "language": "python",
   "name": "python3"
  },
  "language_info": {
   "codemirror_mode": {
    "name": "ipython",
    "version": 3
   },
   "file_extension": ".py",
   "mimetype": "text/x-python",
   "name": "python",
   "nbconvert_exporter": "python",
   "pygments_lexer": "ipython3",
   "version": "3.9.12"
  },
  "orig_nbformat": 4,
  "vscode": {
   "interpreter": {
    "hash": "a1c586dd0144e64cf2b26a0fd4bf4525860f30b700315f95a946aa6c3d2843b3"
   }
  }
 },
 "nbformat": 4,
 "nbformat_minor": 2
}
